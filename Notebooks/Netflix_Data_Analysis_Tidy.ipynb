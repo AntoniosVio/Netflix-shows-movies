{
 "cells": [
  {
   "cell_type": "markdown",
   "id": "433cf4fa",
   "metadata": {},
   "source": [
    "# 📊 Netflix Data Analysis Project\n",
    "\n",
    "This project explores a dataset of Netflix Movies and TV Shows, applying data cleaning, ETL techniques, and exploratory data analysis (EDA) to uncover trends and visual insights about Netflix's content library."
   ]
  },
  {
   "cell_type": "code",
   "execution_count": 1,
   "id": "0781378f",
   "metadata": {},
   "outputs": [
    {
     "name": "stdout",
     "output_type": "stream",
     "text": [
      "Collecting matplotlib\n",
      "  Using cached matplotlib-3.10.3-cp312-cp312-win_amd64.whl.metadata (11 kB)\n",
      "Collecting seaborn\n",
      "  Using cached seaborn-0.13.2-py3-none-any.whl.metadata (5.4 kB)\n",
      "Requirement already satisfied: plotly in c:\\users\\jmcde\\onedrive\\desktop\\vscode-projects\\netflix-shows-movies\\.venv\\lib\\site-packages (6.1.2)\n",
      "Collecting contourpy>=1.0.1 (from matplotlib)\n",
      "  Using cached contourpy-1.3.2-cp312-cp312-win_amd64.whl.metadata (5.5 kB)\n",
      "Collecting cycler>=0.10 (from matplotlib)\n",
      "  Using cached cycler-0.12.1-py3-none-any.whl.metadata (3.8 kB)\n",
      "Collecting fonttools>=4.22.0 (from matplotlib)\n",
      "  Downloading fonttools-4.58.4-cp312-cp312-win_amd64.whl.metadata (108 kB)\n",
      "Collecting kiwisolver>=1.3.1 (from matplotlib)\n",
      "  Using cached kiwisolver-1.4.8-cp312-cp312-win_amd64.whl.metadata (6.3 kB)\n",
      "Requirement already satisfied: numpy>=1.23 in c:\\users\\jmcde\\onedrive\\desktop\\vscode-projects\\netflix-shows-movies\\.venv\\lib\\site-packages (from matplotlib) (2.3.0)\n",
      "Requirement already satisfied: packaging>=20.0 in c:\\users\\jmcde\\onedrive\\desktop\\vscode-projects\\netflix-shows-movies\\.venv\\lib\\site-packages (from matplotlib) (25.0)\n",
      "Collecting pillow>=8 (from matplotlib)\n",
      "  Using cached pillow-11.2.1-cp312-cp312-win_amd64.whl.metadata (9.1 kB)\n",
      "Collecting pyparsing>=2.3.1 (from matplotlib)\n",
      "  Using cached pyparsing-3.2.3-py3-none-any.whl.metadata (5.0 kB)\n",
      "Requirement already satisfied: python-dateutil>=2.7 in c:\\users\\jmcde\\onedrive\\desktop\\vscode-projects\\netflix-shows-movies\\.venv\\lib\\site-packages (from matplotlib) (2.9.0.post0)\n",
      "Requirement already satisfied: pandas>=1.2 in c:\\users\\jmcde\\onedrive\\desktop\\vscode-projects\\netflix-shows-movies\\.venv\\lib\\site-packages (from seaborn) (2.3.0)\n",
      "Requirement already satisfied: narwhals>=1.15.1 in c:\\users\\jmcde\\onedrive\\desktop\\vscode-projects\\netflix-shows-movies\\.venv\\lib\\site-packages (from plotly) (1.42.1)\n",
      "Requirement already satisfied: pytz>=2020.1 in c:\\users\\jmcde\\onedrive\\desktop\\vscode-projects\\netflix-shows-movies\\.venv\\lib\\site-packages (from pandas>=1.2->seaborn) (2025.2)\n",
      "Requirement already satisfied: tzdata>=2022.7 in c:\\users\\jmcde\\onedrive\\desktop\\vscode-projects\\netflix-shows-movies\\.venv\\lib\\site-packages (from pandas>=1.2->seaborn) (2025.2)\n",
      "Requirement already satisfied: six>=1.5 in c:\\users\\jmcde\\onedrive\\desktop\\vscode-projects\\netflix-shows-movies\\.venv\\lib\\site-packages (from python-dateutil>=2.7->matplotlib) (1.17.0)\n",
      "Using cached matplotlib-3.10.3-cp312-cp312-win_amd64.whl (8.1 MB)\n",
      "Using cached seaborn-0.13.2-py3-none-any.whl (294 kB)\n",
      "Using cached contourpy-1.3.2-cp312-cp312-win_amd64.whl (223 kB)\n",
      "Using cached cycler-0.12.1-py3-none-any.whl (8.3 kB)\n",
      "Downloading fonttools-4.58.4-cp312-cp312-win_amd64.whl (2.2 MB)\n",
      "   ---------------------------------------- 0.0/2.2 MB ? eta -:--:--\n",
      "   ---------------------------------------- 2.2/2.2 MB 31.3 MB/s eta 0:00:00\n",
      "Using cached kiwisolver-1.4.8-cp312-cp312-win_amd64.whl (71 kB)\n",
      "Using cached pillow-11.2.1-cp312-cp312-win_amd64.whl (2.7 MB)\n",
      "Using cached pyparsing-3.2.3-py3-none-any.whl (111 kB)\n",
      "Installing collected packages: pyparsing, pillow, kiwisolver, fonttools, cycler, contourpy, matplotlib, seaborn\n",
      "\n",
      "   ----- ---------------------------------- 1/8 [pillow]\n",
      "   ----- ---------------------------------- 1/8 [pillow]\n",
      "   --------------- ------------------------ 3/8 [fonttools]\n",
      "   --------------- ------------------------ 3/8 [fonttools]\n",
      "   --------------- ------------------------ 3/8 [fonttools]\n",
      "   --------------- ------------------------ 3/8 [fonttools]\n",
      "   --------------- ------------------------ 3/8 [fonttools]\n",
      "   --------------- ------------------------ 3/8 [fonttools]\n",
      "   --------------- ------------------------ 3/8 [fonttools]\n",
      "   ------------------------------ --------- 6/8 [matplotlib]\n",
      "   ------------------------------ --------- 6/8 [matplotlib]\n",
      "   ------------------------------ --------- 6/8 [matplotlib]\n",
      "   ------------------------------ --------- 6/8 [matplotlib]\n",
      "   ------------------------------ --------- 6/8 [matplotlib]\n",
      "   ------------------------------ --------- 6/8 [matplotlib]\n",
      "   ------------------------------ --------- 6/8 [matplotlib]\n",
      "   ------------------------------ --------- 6/8 [matplotlib]\n",
      "   ------------------------------ --------- 6/8 [matplotlib]\n",
      "   ------------------------------ --------- 6/8 [matplotlib]\n",
      "   ----------------------------------- ---- 7/8 [seaborn]\n",
      "   ---------------------------------------- 8/8 [seaborn]\n",
      "\n",
      "Successfully installed contourpy-1.3.2 cycler-0.12.1 fonttools-4.58.4 kiwisolver-1.4.8 matplotlib-3.10.3 pillow-11.2.1 pyparsing-3.2.3 seaborn-0.13.2\n",
      "Note: you may need to restart the kernel to use updated packages.\n"
     ]
    }
   ],
   "source": [
    "# Install missing packages if needed\n",
    "%pip install matplotlib seaborn plotly\n",
    "\n",
    "# Import essential libraries\n",
    "import pandas as pd\n",
    "import matplotlib.pyplot as plt\n",
    "import seaborn as sns\n",
    "import plotly.express as px"
   ]
  },
  {
   "cell_type": "code",
   "execution_count": 12,
   "id": "9a67f867",
   "metadata": {},
   "outputs": [
    {
     "name": "stdout",
     "output_type": "stream",
     "text": [
      "Current working directory: c:\\Users\\jmcde\\OneDrive\\Desktop\\vscode-projects\\Netflix-shows-movies\\Notebooks\n",
      "Files in directory: ['.gitignore', 'attribution.md', 'etl_netflix.log', 'Netflix_analysis_summary.ipynb', 'netflix_cleaned.csv', 'Netflix_Data_Analysis_Tidy.ipynb', 'netflix_etl.ipynb', 'README.md', 'Screenshots']\n",
      "File not found: netflix_titles.csv\n",
      "Please update the 'csv_path' variable to the correct location of 'netflix_titles.csv'.\n"
     ]
    }
   ],
   "source": [
    "import os\n",
    "import pandas as pd\n",
    "\n",
    "# Define your path here - update as needed\n",
    "csv_path = 'netflix_titles.csv'\n",
    "\n",
    "print(\"Current working directory:\", os.getcwd())\n",
    "print(\"Files in directory:\", os.listdir())\n",
    "\n",
    "if not os.path.exists(csv_path):\n",
    "    print(f\"File not found: {csv_path}\")\n",
    "    print(\"Please update the 'csv_path' variable to the correct location of 'netflix_titles.csv'.\")\n",
    "else:\n",
    "    df = pd.read_csv(csv_path)\n",
    "    print(\"Data loaded successfully! Here are the first 5 rows:\")\n",
    "    print(df.head())\n"
   ]
  },
  {
   "cell_type": "markdown",
   "id": "3d63584d",
   "metadata": {},
   "source": [
    "## 🧹 Data Cleaning & ETL Process\n",
    "\n",
    "Steps performed:\n",
    "- Checked for missing values\n",
    "- Removed duplicate records\n",
    "- Converted relevant data types\n",
    "- Extracted numerical values from the 'duration' column for movies"
   ]
  },
  {
   "cell_type": "code",
   "execution_count": null,
   "id": "999c4732",
   "metadata": {},
   "outputs": [],
   "source": [
    "# Check for missing values\n",
    "df.isnull().sum()"
   ]
  },
  {
   "cell_type": "code",
   "execution_count": null,
   "id": "2f0d08f9",
   "metadata": {},
   "outputs": [],
   "source": [
    "# Remove duplicates\n",
    "df.drop_duplicates(inplace=True)"
   ]
  },
  {
   "cell_type": "code",
   "execution_count": null,
   "id": "18c83697",
   "metadata": {},
   "outputs": [],
   "source": [
    "# Convert date_added to datetime format\n",
    "df['date_added'] = pd.to_datetime(df['date_added'])"
   ]
  },
  {
   "cell_type": "code",
   "execution_count": null,
   "id": "a86df72d",
   "metadata": {},
   "outputs": [],
   "source": [
    "# Extract numbers from 'duration' column for movies\n",
    "movies = df[df['type'] == 'Movie'].copy()\n",
    "movies['duration_num'] = movies['duration'].str.extract(r'(\\d+)')\n",
    "movies['duration_num'] = movies['duration_num'].fillna('0').astype(int)"
   ]
  },
  {
   "cell_type": "markdown",
   "id": "79b7623b",
   "metadata": {},
   "source": [
    "## 📊 Exploratory Data Analysis (EDA)"
   ]
  },
  {
   "cell_type": "markdown",
   "id": "a0a5238b",
   "metadata": {},
   "source": [
    "### 🔥 Correlation Heatmap"
   ]
  },
  {
   "cell_type": "code",
   "execution_count": null,
   "id": "99379169",
   "metadata": {},
   "outputs": [],
   "source": [
    "# Create a correlation heatmap of numeric columns\n",
    "numeric_cols = df.select_dtypes(include='number')\n",
    "corr = numeric_cols.corr()\n",
    "\n",
    "plt.figure(figsize=(8,6))\n",
    "sns.heatmap(corr, annot=True, cmap='coolwarm', center=0)\n",
    "plt.title('Correlation Heatmap')\n",
    "plt.show()"
   ]
  },
  {
   "cell_type": "markdown",
   "id": "d70fb4f3",
   "metadata": {},
   "source": [
    "### 🎥 Movie Duration vs Release Year by Rating (Scatter Plot)"
   ]
  },
  {
   "cell_type": "code",
   "execution_count": null,
   "id": "2764d834",
   "metadata": {},
   "outputs": [],
   "source": [
    "# Scatter plot of movie duration vs release year by rating\n",
    "fig = px.scatter(\n",
    "    movies,\n",
    "    x='release_year',\n",
    "    y='duration_num',\n",
    "    color='rating',\n",
    "    labels={'duration_num': 'Duration (minutes)', 'release_year': 'Release Year'},\n",
    "    title='Movie Duration vs Release Year by Rating',\n",
    "    color_discrete_sequence=px.colors.qualitative.Pastel\n",
    ")\n",
    "fig.show()"
   ]
  },
  {
   "cell_type": "markdown",
   "id": "f1ed4a52",
   "metadata": {},
   "source": [
    "### 🍩 Distribution of Titles by Rating (Pie Chart)"
   ]
  },
  {
   "cell_type": "code",
   "execution_count": null,
   "id": "dd345b8b",
   "metadata": {},
   "outputs": [],
   "source": [
    "# Pie chart of distribution by rating\n",
    "fig = px.pie(\n",
    "    df,\n",
    "    names='rating',\n",
    "    title='Distribution of Netflix Titles by Rating',\n",
    "    hole=0.3\n",
    ")\n",
    "fig.show()"
   ]
  },
  {
   "cell_type": "markdown",
   "id": "ab4ce03d",
   "metadata": {},
   "source": [
    "## 📌 Key Insights & Findings\n",
    "\n",
    "- The majority of Netflix titles are rated 'TV-MA'.\n",
    "- Content releases have increased notably after 2010.\n",
    "- No strong correlation exists between numeric fields like release year and movie duration.\n",
    "- 'TV Shows' typically don't have a numeric duration value."
   ]
  },
  {
   "cell_type": "markdown",
   "id": "60e2d653",
   "metadata": {},
   "source": [
    "## 📊 Conclusion\n",
    "\n",
    "This exploratory analysis successfully uncovered trends in Netflix's content library, including rating distributions and content durations over time. Visualisations provided insights into title counts by rating, content duration trends, and relationships between numeric features. Future projects could explore genre trends or content availability by region."
   ]
  },
  {
   "cell_type": "markdown",
   "id": "c9b605b8",
   "metadata": {},
   "source": [
    "## 📜 Code Attribution\n",
    "This project was developed using a combination of official documentation, community resources, and public tutorials to guide the data cleaning, exploratory analysis, and visualisation processes. The following resources were referenced:\n",
    "\n",
    "- [Pandas Documentation](https://pandas.pydata.org/docs/) — for data cleaning, handling missing values, and DataFrame manipulation.\n",
    "- [Seaborn Documentation](https://seaborn.pydata.org/) — for creating correlation heatmaps and understanding plot customisation.\n",
    "- [Plotly Express Documentation](https://plotly.com/python/plotly-express/) — for building interactive scatter and pie charts.\n",
    "- [Matplotlib Documentation](https://matplotlib.org/stable/contents.html) — for customising figure layouts, titles, and axis labels.\n",
    "- [Stack Overflow](https://stackoverflow.com/questions/38834378/extract-numbers-from-string-in-pandas) — for extracting numeric values from strings in Pandas.\n",
    "- [Real Python: Data Cleaning with Pandas](https://realpython.com/python-data-cleaning-numpy-pandas/) — for strategies on dealing with missing, inconsistent, and duplicate data.\n",
    "- [DataCamp: Exploratory Data Analysis in Python](https://www.datacamp.com/courses/exploratory-data-analysis-in-python) — for concepts around visualising distributions, relationships, and categorical data.\n",
    "- [Kaggle: Netflix Movies and TV Shows Dataset Projects](https://www.kaggle.com/datasets/shivamb/netflix-shows/code) — reviewed for inspiration on Netflix data analysis approaches and commonly explored variables.\n",
    "- [Towards Data Science: Building ETL Pipelines in Python](https://towardsdatascience.com/building-etl-pipelines-with-python-2c3035e3898e) — for ETL workflow design and data transformation strategies.\n",
    "- [Regular Expressions 101](https://regex101.com/) — for testing and refining regex patterns used in data extraction.\n",
    "- [Jupyter Notebook Best Practices](https://realpython.com/jupyter-notebook-introduction/) — for structuring well-organised and readable notebooks.\n",
    "- [The Data Visualisation Catalogue](https://datavizcatalogue.com/) — consulted for selecting appropriate visualisation types for different data relationships.\n",
    "- [Datawrapper Academy: Data Storytelling](https://academy.datawrapper.de/article/179-how-to-tell-a-story-with-data) — for principles on effectively presenting insights and visual narratives.\n",
    "- [Python Official Regular Expressions HOWTO](https://docs.python.org/3/howto/regex.html) — for understanding regular expressions in Python.\n",
    "- [DataCamp: Working with Categorical Data in Python](https://www.datacamp.com/courses/categorical-data-in-python) — for handling and visualising categorical variables like content ratings.\n",
    "- [Towards Data Science: A Practical Guide to Exploratory Data Analysis](https://towardsdatascience.com/a-practical-guide-to-exploratory-data-analysis-8b8bb597c2f0) — for best practices in conducting exploratory data analysis.\n",
    "- [Analytics Vidhya: Comprehensive Guide to Data Cleaning in Python](https://www.analyticsvidhya.com/blog/2021/05/a-comprehensive-guide-to-data-cleaning-in-python/) — for advanced data cleaning strategies and techniques.\n",
    "- [Kaggle Learn: Data Visualisation](https://www.kaggle.com/learn/data-visualization) — for practical hands-on guidance in creating visualisations using Matplotlib and Seaborn.\n",
    "- [Medium: How to Structure Data Science Projects](https://medium.com/swlh/how-to-structure-data-science-projects-d73eb30f2721) — for ideas on organising data science projects for readability, reproducibility, and collaboration.\n",
    "- [Google Developers: Data Analysis Best Practices](https://developers.google.com/machine-learning/data-prep/overview) — for general data analysis workflow and preparation best practices.\n",
    "\n",
    "All other code was written independently by James McDermott\n",
    "\n",
    "Inline comments within the Jupyter notebook cite any adapted external code snippets as appropriate.\n"
   ]
  }
 ],
 "metadata": {
  "kernelspec": {
   "display_name": ".venv",
   "language": "python",
   "name": "python3"
  },
  "language_info": {
   "codemirror_mode": {
    "name": "ipython",
    "version": 3
   },
   "file_extension": ".py",
   "mimetype": "text/x-python",
   "name": "python",
   "nbconvert_exporter": "python",
   "pygments_lexer": "ipython3",
   "version": "3.12.8"
  }
 },
 "nbformat": 4,
 "nbformat_minor": 5
}
